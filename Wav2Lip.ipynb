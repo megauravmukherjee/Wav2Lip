{
  "nbformat": 4,
  "nbformat_minor": 0,
  "metadata": {
    "colab": {
      "provenance": []
    },
    "kernelspec": {
      "name": "python3",
      "display_name": "Python 3"
    },
    "accelerator": "GPU"
  },
  "cells": [
    {
      "cell_type": "markdown",
      "metadata": {
        "id": "vSQFs_G8caeE"
      },
      "source": [
        "# Collab preliminaries"
      ]
    },
    {
      "cell_type": "code",
      "metadata": {
        "id": "XIVB0Xn1g6ih",
        "colab": {
          "base_uri": "https://localhost:8080/"
        },
        "outputId": "794a8073-a597-485e-9f8c-833067f3b460"
      },
      "source": [
        "!nvcc --version"
      ],
      "execution_count": 1,
      "outputs": [
        {
          "output_type": "stream",
          "name": "stdout",
          "text": [
            "nvcc: NVIDIA (R) Cuda compiler driver\n",
            "Copyright (c) 2005-2022 NVIDIA Corporation\n",
            "Built on Wed_Sep_21_10:33:58_PDT_2022\n",
            "Cuda compilation tools, release 11.8, V11.8.89\n",
            "Build cuda_11.8.r11.8/compiler.31833905_0\n"
          ]
        }
      ]
    },
    {
      "cell_type": "code",
      "metadata": {
        "id": "qciH4PsUazL_",
        "colab": {
          "base_uri": "https://localhost:8080/"
        },
        "outputId": "7b8f3704-4608-4c39-c979-ccaad9c88bb5"
      },
      "source": [
        "from google.colab import drive\n",
        "drive.mount('/content/gdrive')"
      ],
      "execution_count": 2,
      "outputs": [
        {
          "output_type": "stream",
          "name": "stdout",
          "text": [
            "Mounted at /content/gdrive\n"
          ]
        }
      ]
    },
    {
      "cell_type": "markdown",
      "metadata": {
        "id": "yJ5taGmPcWV-"
      },
      "source": [
        "# Get the code and models"
      ]
    },
    {
      "cell_type": "code",
      "metadata": {
        "id": "Ooh28vw-Uvd3",
        "colab": {
          "base_uri": "https://localhost:8080/"
        },
        "outputId": "0f9067ce-ec38-4067-ff0a-9b55393ddee5"
      },
      "source": [
        "#!pip uninstall tensorflow tensorflow-gpu\n",
        "#@title <h1>Step1: Setup Wav2Lip</h1>\n",
        "#@markdown * Install dependency\n",
        "#@markdown * Download pretrained model\n",
        "!rm -rf /content/sample_data\n",
        "!mkdir /content/sample_data\n",
        "\n",
        "!git clone https://github.com/zabique/Wav2Lip\n",
        "\n",
        "#download the pretrained model\n",
        "!wget 'https://iiitaphyd-my.sharepoint.com/personal/radrabha_m_research_iiit_ac_in/_layouts/15/download.aspx?share=EdjI7bZlgApMqsVoEUUXpLsBxqXbn5z8VTmoxp55YNDcIA' -O '/content/Wav2Lip/checkpoints/wav2lip_gan.pth'\n",
        "a = !pip install https://raw.githubusercontent.com/AwaleSajil/ghc/master/ghc-1.0-py3-none-any.whl\n",
        "\n",
        "# !pip uninstall tensorflow tensorflow-gpu\n",
        "!cd Wav2Lip && pip install -r requirements.txt\n",
        "\n",
        "#download pretrained model for face detection\n",
        "!wget \"https://www.adrianbulat.com/downloads/python-fan/s3fd-619a316812.pth\" -O \"/content/Wav2Lip/face_detection/detection/sfd/s3fd.pth\"\n",
        "\n",
        "!pip install -q youtube-dl\n",
        "!pip install ffmpeg-python\n",
        "!pip install librosa==0.9.1\n",
        "\n",
        "#this code for recording audio\n",
        "\n",
        "\n",
        "from IPython.display import HTML, Audio\n",
        "from google.colab.output import eval_js\n",
        "from base64 import b64decode\n",
        "import numpy as np\n",
        "from scipy.io.wavfile import read as wav_read\n",
        "import io\n",
        "import ffmpeg\n",
        "\n",
        "from IPython.display import clear_output\n",
        "clear_output()\n",
        "print(\"\\nDone\")"
      ],
      "execution_count": 3,
      "outputs": [
        {
          "output_type": "stream",
          "name": "stdout",
          "text": [
            "\n",
            "Done\n"
          ]
        }
      ]
    },
    {
      "cell_type": "markdown",
      "metadata": {
        "id": "qdIQfY2Kswcb"
      },
      "source": [
        "# Now lets try!"
      ]
    },
    {
      "cell_type": "markdown",
      "source": [
        "The Input file is saved on the google drive inside the folder named \"Wav2Lip\"\n",
        "\n",
        "> Input files are copied to sample_data folder for runtime execution\n",
        "\n",
        "\n"
      ],
      "metadata": {
        "id": "4efFY_l-vuhU"
      }
    },
    {
      "cell_type": "code",
      "metadata": {
        "id": "KoVGMtjRZfeR",
        "colab": {
          "base_uri": "https://localhost:8080/"
        },
        "outputId": "ec474f52-440d-437a-e0ef-ae4ad322a1ca"
      },
      "source": [
        "!cp \"/content/gdrive/MyDrive/Wav2Lip/input_vid.mp4\" \"/content/gdrive/MyDrive/Wav2Lip/input_audio.wav\" sample_data/\n",
        "!ls sample_data/"
      ],
      "execution_count": 4,
      "outputs": [
        {
          "output_type": "stream",
          "name": "stdout",
          "text": [
            "input_audio.wav  input_vid.mp4\n"
          ]
        }
      ]
    },
    {
      "cell_type": "markdown",
      "metadata": {
        "id": "d7zgfrQqbKom"
      },
      "source": [
        "## **Variations to try**\n"
      ]
    },
    {
      "cell_type": "markdown",
      "metadata": {
        "id": "0f9A9VDVbZAG"
      },
      "source": [
        "1.   I have set the padding to 0 0 0 0"
      ]
    },
    {
      "cell_type": "markdown",
      "metadata": {
        "id": "uo-WnsxfbwTG"
      },
      "source": [
        "2.   Use resize_factor to reduce the video resolution, as there is a change you might get better results for lower resolution videos. Why? Because the model was trained on low resolution faces.\n",
        "I have used the resize factor = 1"
      ]
    },
    {
      "cell_type": "markdown",
      "source": [
        "3. To overcome over-smoothing of the face detections. I have used the --nosmooth argument"
      ],
      "metadata": {
        "id": "1zvNVrscw-M6"
      }
    },
    {
      "cell_type": "code",
      "metadata": {
        "id": "jR5utmDMcSZY",
        "colab": {
          "base_uri": "https://localhost:8080/"
        },
        "outputId": "4068946f-ca33-45bc-c875-eb382a8b8ee1"
      },
      "source": [
        "!cd Wav2Lip && python inference.py --checkpoint_path checkpoints/wav2lip_gan.pth --face \"/content/gdrive/MyDrive/Wav2Lip/input_vid.mp4\" --audio \"/content/gdrive/MyDrive/Wav2Lip/input_audio.wav\" --nosmooth --pads 0 0 0 0 --resize_factor 1"
      ],
      "execution_count": 5,
      "outputs": [
        {
          "output_type": "stream",
          "name": "stdout",
          "text": [
            "Using cuda for inference.\n",
            "Reading video frames...\n",
            "Number of frames available for inference: 2037\n",
            "/content/Wav2Lip/audio.py:100: FutureWarning: Pass sr=16000, n_fft=800 as keyword args. From version 0.10 passing these as positional arguments will result in an error\n",
            "  return librosa.filters.mel(hp.sample_rate, hp.n_fft, n_mels=hp.num_mels,\n",
            "(80, 5386)\n",
            "Length of mel chunks: 2016\n",
            "  0% 0/16 [00:00<?, ?it/s]\n",
            "  0% 0/126 [00:00<?, ?it/s]\u001b[A\n",
            "  1% 1/126 [00:19<39:47, 19.10s/it]\u001b[A\n",
            "  2% 2/126 [00:20<17:21,  8.40s/it]\u001b[A\n",
            "  2% 3/126 [00:20<10:12,  4.98s/it]\u001b[A\n",
            "  3% 4/126 [00:21<06:50,  3.36s/it]\u001b[A\n",
            "  4% 5/126 [00:22<04:59,  2.48s/it]\u001b[A\n",
            "  5% 6/126 [00:23<03:55,  1.96s/it]\u001b[A\n",
            "  6% 7/126 [00:24<03:12,  1.62s/it]\u001b[A\n",
            "  6% 8/126 [00:25<02:44,  1.39s/it]\u001b[A\n",
            "  7% 9/126 [00:26<02:25,  1.24s/it]\u001b[A\n",
            "  8% 10/126 [00:27<02:12,  1.14s/it]\u001b[A\n",
            "  9% 11/126 [00:28<02:03,  1.07s/it]\u001b[A\n",
            " 10% 12/126 [00:29<01:58,  1.04s/it]\u001b[A\n",
            " 10% 13/126 [00:30<01:56,  1.04s/it]\u001b[A\n",
            " 11% 14/126 [00:31<01:55,  1.03s/it]\u001b[A\n",
            " 12% 15/126 [00:32<01:53,  1.02s/it]\u001b[A\n",
            " 13% 16/126 [00:33<01:55,  1.05s/it]\u001b[A\n",
            " 13% 17/126 [00:34<01:53,  1.04s/it]\u001b[A\n",
            " 14% 18/126 [00:35<01:48,  1.00s/it]\u001b[A\n",
            " 15% 19/126 [00:36<01:44,  1.02it/s]\u001b[A\n",
            " 16% 20/126 [00:37<01:42,  1.03it/s]\u001b[A\n",
            " 17% 21/126 [00:38<01:41,  1.03it/s]\u001b[A\n",
            " 17% 22/126 [00:39<01:40,  1.04it/s]\u001b[A\n",
            " 18% 23/126 [00:39<01:37,  1.05it/s]\u001b[A\n",
            " 19% 24/126 [00:40<01:36,  1.06it/s]\u001b[A\n",
            " 20% 25/126 [00:41<01:35,  1.06it/s]\u001b[A\n",
            " 21% 26/126 [00:42<01:34,  1.06it/s]\u001b[A\n",
            " 21% 27/126 [00:43<01:33,  1.06it/s]\u001b[A\n",
            " 22% 28/126 [00:44<01:40,  1.02s/it]\u001b[A\n",
            " 23% 29/126 [00:46<01:41,  1.05s/it]\u001b[A\n",
            " 24% 30/126 [00:47<01:40,  1.05s/it]\u001b[A\n",
            " 25% 31/126 [00:48<01:42,  1.08s/it]\u001b[A\n",
            " 25% 32/126 [00:49<01:37,  1.04s/it]\u001b[A\n",
            " 26% 33/126 [00:50<01:33,  1.01s/it]\u001b[A\n",
            " 27% 34/126 [00:51<01:30,  1.01it/s]\u001b[A\n",
            " 28% 35/126 [00:52<01:28,  1.03it/s]\u001b[A\n",
            " 29% 36/126 [00:52<01:27,  1.03it/s]\u001b[A\n",
            " 29% 37/126 [00:53<01:25,  1.04it/s]\u001b[A\n",
            " 30% 38/126 [00:54<01:24,  1.04it/s]\u001b[A\n",
            " 31% 39/126 [00:55<01:23,  1.05it/s]\u001b[A\n",
            " 32% 40/126 [00:56<01:21,  1.06it/s]\u001b[A\n",
            " 33% 41/126 [00:57<01:20,  1.06it/s]\u001b[A\n",
            " 33% 42/126 [00:58<01:21,  1.03it/s]\u001b[A\n",
            " 34% 43/126 [00:59<01:24,  1.02s/it]\u001b[A\n",
            " 35% 44/126 [01:00<01:26,  1.05s/it]\u001b[A\n",
            " 36% 45/126 [01:02<01:27,  1.08s/it]\u001b[A\n",
            " 37% 46/126 [01:03<01:25,  1.06s/it]\u001b[A\n",
            " 37% 47/126 [01:04<01:22,  1.05s/it]\u001b[A\n",
            " 38% 48/126 [01:05<01:19,  1.02s/it]\u001b[A\n",
            " 39% 49/126 [01:06<01:16,  1.00it/s]\u001b[A\n",
            " 40% 50/126 [01:06<01:14,  1.02it/s]\u001b[A\n",
            " 40% 51/126 [01:07<01:12,  1.04it/s]\u001b[A\n",
            " 41% 52/126 [01:08<01:10,  1.04it/s]\u001b[A\n",
            " 42% 53/126 [01:09<01:10,  1.04it/s]\u001b[A\n",
            " 43% 54/126 [01:10<01:09,  1.04it/s]\u001b[A\n",
            " 44% 55/126 [01:11<01:08,  1.04it/s]\u001b[A\n",
            " 44% 56/126 [01:12<01:06,  1.05it/s]\u001b[A\n",
            " 45% 57/126 [01:13<01:08,  1.01it/s]\u001b[A\n",
            " 46% 58/126 [01:14<01:10,  1.03s/it]\u001b[A\n",
            " 47% 59/126 [01:16<01:11,  1.07s/it]\u001b[A\n",
            " 48% 60/126 [01:17<01:10,  1.07s/it]\u001b[A\n",
            " 48% 61/126 [01:18<01:07,  1.04s/it]\u001b[A\n",
            " 49% 62/126 [01:19<01:04,  1.01s/it]\u001b[A\n",
            " 50% 63/126 [01:19<01:02,  1.01it/s]\u001b[A\n",
            " 51% 64/126 [01:20<01:00,  1.02it/s]\u001b[A\n",
            " 52% 65/126 [01:21<01:00,  1.02it/s]\u001b[A\n",
            " 52% 66/126 [01:22<00:58,  1.02it/s]\u001b[A\n",
            " 53% 67/126 [01:23<00:57,  1.03it/s]\u001b[A\n",
            " 54% 68/126 [01:24<00:55,  1.04it/s]\u001b[A\n",
            " 55% 69/126 [01:25<00:54,  1.04it/s]\u001b[A\n",
            " 56% 70/126 [01:26<00:53,  1.04it/s]\u001b[A\n",
            " 56% 71/126 [01:27<00:53,  1.03it/s]\u001b[A\n",
            " 57% 72/126 [01:28<00:54,  1.02s/it]\u001b[A\n",
            " 58% 73/126 [01:29<00:55,  1.05s/it]\u001b[A\n",
            " 59% 74/126 [01:31<00:55,  1.07s/it]\u001b[A\n",
            " 60% 75/126 [01:32<00:54,  1.07s/it]\u001b[A\n",
            " 60% 76/126 [01:33<00:52,  1.05s/it]\u001b[A\n",
            " 61% 77/126 [01:34<00:50,  1.03s/it]\u001b[A\n",
            " 62% 78/126 [01:35<00:49,  1.03s/it]\u001b[A\n",
            " 63% 79/126 [01:36<00:47,  1.01s/it]\u001b[A\n",
            " 63% 80/126 [01:37<00:46,  1.00s/it]\u001b[A\n",
            " 64% 81/126 [01:38<00:44,  1.01it/s]\u001b[A\n",
            " 65% 82/126 [01:39<00:43,  1.02it/s]\u001b[A\n",
            " 66% 83/126 [01:40<00:42,  1.02it/s]\u001b[A\n",
            " 67% 84/126 [01:40<00:41,  1.02it/s]\u001b[A\n",
            " 67% 85/126 [01:42<00:40,  1.00it/s]\u001b[A\n",
            " 68% 86/126 [01:43<00:42,  1.05s/it]\u001b[A\n",
            " 69% 87/126 [01:44<00:41,  1.07s/it]\u001b[A\n",
            " 70% 88/126 [01:45<00:41,  1.08s/it]\u001b[A\n",
            " 71% 89/126 [01:46<00:39,  1.08s/it]\u001b[A\n",
            " 71% 90/126 [01:47<00:37,  1.05s/it]\u001b[A\n",
            " 72% 91/126 [01:48<00:35,  1.02s/it]\u001b[A\n",
            " 73% 92/126 [01:49<00:34,  1.02s/it]\u001b[A\n",
            " 74% 93/126 [01:50<00:33,  1.00s/it]\u001b[A\n",
            " 75% 94/126 [01:51<00:31,  1.01it/s]\u001b[A\n",
            " 75% 95/126 [01:52<00:30,  1.02it/s]\u001b[A\n",
            " 76% 96/126 [01:53<00:29,  1.02it/s]\u001b[A\n",
            " 77% 97/126 [01:54<00:28,  1.02it/s]\u001b[A\n",
            " 78% 98/126 [01:55<00:27,  1.03it/s]\u001b[A\n",
            " 79% 99/126 [01:56<00:26,  1.03it/s]\u001b[A\n",
            " 79% 100/126 [01:57<00:26,  1.01s/it]\u001b[A\n",
            " 80% 101/126 [01:58<00:26,  1.04s/it]\u001b[A\n",
            " 81% 102/126 [01:59<00:25,  1.07s/it]\u001b[A\n",
            " 82% 103/126 [02:00<00:26,  1.13s/it]\u001b[A\n",
            " 83% 104/126 [02:01<00:24,  1.12s/it]\u001b[A\n",
            " 83% 105/126 [02:02<00:22,  1.08s/it]\u001b[A\n",
            " 84% 106/126 [02:03<00:20,  1.05s/it]\u001b[A\n",
            " 85% 107/126 [02:04<00:19,  1.03s/it]\u001b[A\n",
            " 86% 108/126 [02:05<00:18,  1.02s/it]\u001b[A\n",
            " 87% 109/126 [02:06<00:17,  1.01s/it]\u001b[A\n",
            " 87% 110/126 [02:07<00:15,  1.00it/s]\u001b[A\n",
            " 88% 111/126 [02:08<00:14,  1.01it/s]\u001b[A\n",
            " 89% 112/126 [02:09<00:13,  1.01it/s]\u001b[A\n",
            " 90% 113/126 [02:10<00:12,  1.01it/s]\u001b[A\n",
            " 90% 114/126 [02:11<00:12,  1.01s/it]\u001b[A\n",
            " 91% 115/126 [02:13<00:11,  1.05s/it]\u001b[A\n",
            " 92% 116/126 [02:14<00:10,  1.08s/it]\u001b[A\n",
            " 93% 117/126 [02:15<00:09,  1.10s/it]\u001b[A\n",
            " 94% 118/126 [02:16<00:08,  1.09s/it]\u001b[A\n",
            " 94% 119/126 [02:17<00:07,  1.06s/it]\u001b[A\n",
            " 95% 120/126 [02:18<00:06,  1.04s/it]\u001b[A\n",
            " 96% 121/126 [02:19<00:05,  1.02s/it]\u001b[A\n",
            " 97% 122/126 [02:20<00:04,  1.01s/it]\u001b[A\n",
            " 98% 123/126 [02:21<00:02,  1.00it/s]\u001b[A\n",
            " 98% 124/126 [02:22<00:01,  1.01it/s]\u001b[A\n",
            " 99% 125/126 [02:23<00:00,  1.01it/s]\u001b[A\n",
            "100% 126/126 [02:24<00:00,  1.14s/it]\n",
            "Load checkpoint from: checkpoints/wav2lip_gan.pth\n",
            "Model loaded\n",
            "100% 16/16 [02:55<00:00, 11.00s/it]\n",
            "ffmpeg version 4.4.2-0ubuntu0.22.04.1 Copyright (c) 2000-2021 the FFmpeg developers\n",
            "  built with gcc 11 (Ubuntu 11.2.0-19ubuntu1)\n",
            "  configuration: --prefix=/usr --extra-version=0ubuntu0.22.04.1 --toolchain=hardened --libdir=/usr/lib/x86_64-linux-gnu --incdir=/usr/include/x86_64-linux-gnu --arch=amd64 --enable-gpl --disable-stripping --enable-gnutls --enable-ladspa --enable-libaom --enable-libass --enable-libbluray --enable-libbs2b --enable-libcaca --enable-libcdio --enable-libcodec2 --enable-libdav1d --enable-libflite --enable-libfontconfig --enable-libfreetype --enable-libfribidi --enable-libgme --enable-libgsm --enable-libjack --enable-libmp3lame --enable-libmysofa --enable-libopenjpeg --enable-libopenmpt --enable-libopus --enable-libpulse --enable-librabbitmq --enable-librubberband --enable-libshine --enable-libsnappy --enable-libsoxr --enable-libspeex --enable-libsrt --enable-libssh --enable-libtheora --enable-libtwolame --enable-libvidstab --enable-libvorbis --enable-libvpx --enable-libwebp --enable-libx265 --enable-libxml2 --enable-libxvid --enable-libzimg --enable-libzmq --enable-libzvbi --enable-lv2 --enable-omx --enable-openal --enable-opencl --enable-opengl --enable-sdl2 --enable-pocketsphinx --enable-librsvg --enable-libmfx --enable-libdc1394 --enable-libdrm --enable-libiec61883 --enable-chromaprint --enable-frei0r --enable-libx264 --enable-shared\n",
            "  libavutil      56. 70.100 / 56. 70.100\n",
            "  libavcodec     58.134.100 / 58.134.100\n",
            "  libavformat    58. 76.100 / 58. 76.100\n",
            "  libavdevice    58. 13.100 / 58. 13.100\n",
            "  libavfilter     7.110.100 /  7.110.100\n",
            "  libswscale      5.  9.100 /  5.  9.100\n",
            "  libswresample   3.  9.100 /  3.  9.100\n",
            "  libpostproc    55.  9.100 / 55.  9.100\n",
            "\u001b[0;35m[mp3 @ 0x58383177e2c0] \u001b[0m\u001b[0;33mEstimating duration from bitrate, this may be inaccurate\n",
            "\u001b[0mInput #0, mp3, from '/content/gdrive/MyDrive/Wav2Lip/input_audio.wav':\n",
            "  Duration: 00:01:07.32, start: 0.000000, bitrate: 96 kb/s\n",
            "  Stream #0:0: Audio: mp3, 44100 Hz, mono, fltp, 96 kb/s\n",
            "Input #1, avi, from 'temp/result.avi':\n",
            "  Metadata:\n",
            "    software        : Lavf59.27.100\n",
            "  Duration: 00:01:07.20, start: 0.000000, bitrate: 1226 kb/s\n",
            "  Stream #1:0: Video: mpeg4 (Simple Profile) (DIVX / 0x58564944), yuv420p, 540x540 [SAR 1:1 DAR 1:1], 1220 kb/s, 30 fps, 30 tbr, 30 tbn, 30 tbc\n",
            "Stream mapping:\n",
            "  Stream #1:0 -> #0:0 (mpeg4 (native) -> h264 (libx264))\n",
            "  Stream #0:0 -> #0:1 (mp3 (mp3float) -> aac (native))\n",
            "Press [q] to stop, [?] for help\n",
            "\u001b[1;36m[libx264 @ 0x5838317c0a80] \u001b[0m\u001b[0;33m-qscale is ignored, -crf is recommended.\n",
            "\u001b[0m\u001b[1;36m[libx264 @ 0x5838317c0a80] \u001b[0musing SAR=1/1\n",
            "\u001b[1;36m[libx264 @ 0x5838317c0a80] \u001b[0musing cpu capabilities: MMX2 SSE2Fast SSSE3 SSE4.2 AVX FMA3 BMI2 AVX2\n",
            "\u001b[1;36m[libx264 @ 0x5838317c0a80] \u001b[0mprofile High, level 3.0, 4:2:0, 8-bit\n",
            "\u001b[1;36m[libx264 @ 0x5838317c0a80] \u001b[0m264 - core 163 r3060 5db6aa6 - H.264/MPEG-4 AVC codec - Copyleft 2003-2021 - http://www.videolan.org/x264.html - options: cabac=1 ref=3 deblock=1:0:0 analyse=0x3:0x113 me=hex subme=7 psy=1 psy_rd=1.00:0.00 mixed_ref=1 me_range=16 chroma_me=1 trellis=1 8x8dct=1 cqm=0 deadzone=21,11 fast_pskip=1 chroma_qp_offset=-2 threads=3 lookahead_threads=1 sliced_threads=0 nr=0 decimate=1 interlaced=0 bluray_compat=0 constrained_intra=0 bframes=3 b_pyramid=2 b_adapt=1 b_bias=0 direct=1 weightb=1 open_gop=0 weightp=2 keyint=250 keyint_min=25 scenecut=40 intra_refresh=0 rc_lookahead=40 rc=crf mbtree=1 crf=23.0 qcomp=0.60 qpmin=0 qpmax=69 qpstep=4 ip_ratio=1.40 aq=1:1.00\n",
            "Output #0, mp4, to 'results/result_voice.mp4':\n",
            "  Metadata:\n",
            "    encoder         : Lavf58.76.100\n",
            "  Stream #0:0: Video: h264 (avc1 / 0x31637661), yuv420p(progressive), 540x540 [SAR 1:1 DAR 1:1], q=2-31, 30 fps, 15360 tbn\n",
            "    Metadata:\n",
            "      encoder         : Lavc58.134.100 libx264\n",
            "    Side data:\n",
            "      cpb: bitrate max/min/avg: 0/0/0 buffer size: 0 vbv_delay: N/A\n",
            "  Stream #0:1: Audio: aac (LC) (mp4a / 0x6134706D), 44100 Hz, mono, fltp, 69 kb/s\n",
            "    Metadata:\n",
            "      encoder         : Lavc58.134.100 aac\n",
            "frame= 2016 fps= 62 q=-1.0 Lsize=    5226kB time=00:01:07.31 bitrate= 636.0kbits/s speed=2.07x    \n",
            "video:4590kB audio:571kB subtitle:0kB other streams:0kB global headers:0kB muxing overhead: 1.273948%\n",
            "\u001b[1;36m[libx264 @ 0x5838317c0a80] \u001b[0mframe I:9     Avg QP:18.26  size: 12923\n",
            "\u001b[1;36m[libx264 @ 0x5838317c0a80] \u001b[0mframe P:1362  Avg QP:22.87  size:  2887\n",
            "\u001b[1;36m[libx264 @ 0x5838317c0a80] \u001b[0mframe B:645   Avg QP:25.42  size:  1010\n",
            "\u001b[1;36m[libx264 @ 0x5838317c0a80] \u001b[0mconsecutive B-frames: 51.0% 14.6% 12.9% 21.4%\n",
            "\u001b[1;36m[libx264 @ 0x5838317c0a80] \u001b[0mmb I  I16..4: 15.3% 76.1%  8.6%\n",
            "\u001b[1;36m[libx264 @ 0x5838317c0a80] \u001b[0mmb P  I16..4:  1.1%  6.1%  0.3%  P16..4: 32.7%  9.5%  3.8%  0.0%  0.0%    skip:46.6%\n",
            "\u001b[1;36m[libx264 @ 0x5838317c0a80] \u001b[0mmb B  I16..4:  0.4%  1.9%  0.0%  B16..8: 31.3%  2.8%  0.3%  direct: 0.5%  skip:62.9%  L0:50.0% L1:45.2% BI: 4.7%\n",
            "\u001b[1;36m[libx264 @ 0x5838317c0a80] \u001b[0m8x8 transform intra:81.7% inter:83.5%\n",
            "\u001b[1;36m[libx264 @ 0x5838317c0a80] \u001b[0mcoded y,uvDC,uvAC intra: 43.0% 45.4% 8.5% inter: 9.9% 8.0% 0.0%\n",
            "\u001b[1;36m[libx264 @ 0x5838317c0a80] \u001b[0mi16 v,h,dc,p: 39% 22% 27% 12%\n",
            "\u001b[1;36m[libx264 @ 0x5838317c0a80] \u001b[0mi8 v,h,dc,ddl,ddr,vr,hd,vl,hu: 23% 18% 41%  2%  3%  4%  3%  3%  3%\n",
            "\u001b[1;36m[libx264 @ 0x5838317c0a80] \u001b[0mi4 v,h,dc,ddl,ddr,vr,hd,vl,hu: 31% 19% 14%  4%  8%  8%  8%  5%  3%\n",
            "\u001b[1;36m[libx264 @ 0x5838317c0a80] \u001b[0mi8c dc,h,v,p: 55% 19% 21%  4%\n",
            "\u001b[1;36m[libx264 @ 0x5838317c0a80] \u001b[0mWeighted P-Frames: Y:0.2% UV:0.0%\n",
            "\u001b[1;36m[libx264 @ 0x5838317c0a80] \u001b[0mref P L0: 72.7% 12.9% 10.9%  3.5%  0.0%\n",
            "\u001b[1;36m[libx264 @ 0x5838317c0a80] \u001b[0mref B L0: 88.0%  9.8%  2.2%\n",
            "\u001b[1;36m[libx264 @ 0x5838317c0a80] \u001b[0mref B L1: 98.6%  1.4%\n",
            "\u001b[1;36m[libx264 @ 0x5838317c0a80] \u001b[0mkb/s:559.44\n",
            "\u001b[1;36m[aac @ 0x5838317c2640] \u001b[0mQavg: 158.533\n"
          ]
        }
      ]
    },
    {
      "cell_type": "code",
      "metadata": {
        "id": "uNOAZvkszEOw",
        "outputId": "457f97e0-7573-46df-b6a6-2880d9cfdef8",
        "colab": {
          "base_uri": "https://localhost:8080/",
          "height": 17
        }
      },
      "source": [
        "# use the \"files\" button on the left to download the result in the Wav2Lip/results/ folder.\n",
        "#@title 5.Download Result.mp4 to your computer\n",
        "from google.colab import files\n",
        "files.download('/content/Wav2Lip/results/result_voice.mp4')"
      ],
      "execution_count": null,
      "outputs": [
        {
          "output_type": "display_data",
          "data": {
            "text/plain": [
              "<IPython.core.display.Javascript object>"
            ],
            "application/javascript": [
              "\n",
              "    async function download(id, filename, size) {\n",
              "      if (!google.colab.kernel.accessAllowed) {\n",
              "        return;\n",
              "      }\n",
              "      const div = document.createElement('div');\n",
              "      const label = document.createElement('label');\n",
              "      label.textContent = `Downloading \"${filename}\": `;\n",
              "      div.appendChild(label);\n",
              "      const progress = document.createElement('progress');\n",
              "      progress.max = size;\n",
              "      div.appendChild(progress);\n",
              "      document.body.appendChild(div);\n",
              "\n",
              "      const buffers = [];\n",
              "      let downloaded = 0;\n",
              "\n",
              "      const channel = await google.colab.kernel.comms.open(id);\n",
              "      // Send a message to notify the kernel that we're ready.\n",
              "      channel.send({})\n",
              "\n",
              "      for await (const message of channel.messages) {\n",
              "        // Send a message to notify the kernel that we're ready.\n",
              "        channel.send({})\n",
              "        if (message.buffers) {\n",
              "          for (const buffer of message.buffers) {\n",
              "            buffers.push(buffer);\n",
              "            downloaded += buffer.byteLength;\n",
              "            progress.value = downloaded;\n",
              "          }\n",
              "        }\n",
              "      }\n",
              "      const blob = new Blob(buffers, {type: 'application/binary'});\n",
              "      const a = document.createElement('a');\n",
              "      a.href = window.URL.createObjectURL(blob);\n",
              "      a.download = filename;\n",
              "      div.appendChild(a);\n",
              "      a.click();\n",
              "      div.remove();\n",
              "    }\n",
              "  "
            ]
          },
          "metadata": {}
        },
        {
          "output_type": "display_data",
          "data": {
            "text/plain": [
              "<IPython.core.display.Javascript object>"
            ],
            "application/javascript": [
              "download(\"download_6d174361-36e8-46f6-8a96-b7d8153612b4\", \"result_voice.mp4\", 5351690)"
            ]
          },
          "metadata": {}
        }
      ]
    }
  ]
}